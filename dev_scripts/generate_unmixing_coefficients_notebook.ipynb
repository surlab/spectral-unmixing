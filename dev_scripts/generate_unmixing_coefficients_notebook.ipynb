{
 "cells": [
  {
   "cell_type": "code",
   "execution_count": 2,
   "id": "435a9f17",
   "metadata": {},
   "outputs": [
    {
     "name": "stdout",
     "output_type": "stream",
     "text": [
      "The autoreload extension is already loaded. To reload it, use:\n",
      "  %reload_ext autoreload\n",
      "Session is in colab: False\n",
      "Session is in colab: False\n"
     ]
    }
   ],
   "source": [
    "#settings\n",
    "%load_ext autoreload\n",
    "%autoreload 2\n",
    "try:\n",
    "  import google.colab\n",
    "  in_colab = True\n",
    "except:\n",
    "  in_colab = False\n",
    "print(f'Session is in colab: {in_colab}')\n",
    "#installs (for colab only, run this once)\n",
    "if in_colab:\n",
    "    ! git clone https://github.com/GreggHeller1/PMT_linearization.git\n",
    "\n",
    "#local imports\n",
    "#cwd if in colab for imports to work\n",
    "if in_colab:\n",
    "    %cd /content/PMT_linearization\n",
    "    \n",
    "from src import data_io as io\n",
    "from src import plotting as plot\n",
    "#from src import computation as comp\n",
    "from src import main\n",
    "#from src import config as gcfg\n",
    "\n",
    "if in_colab:\n",
    "    %cd /content/PMT_linearization/scripts\n",
    "    "
   ]
  },
  {
   "cell_type": "code",
   "execution_count": 3,
   "id": "078bf1f4",
   "metadata": {},
   "outputs": [],
   "source": [
    "import os"
   ]
  },
  {
   "cell_type": "code",
   "execution_count": 8,
   "id": "74dc8bf6",
   "metadata": {},
   "outputs": [
    {
     "name": "stdout",
     "output_type": "stream",
     "text": [
      "['mCherry', 'mNeptune', 'tdTomato']\n"
     ]
    }
   ],
   "source": [
    "\n",
    "data_dir = r\"\\\\surflex2\\2P3_data\\USERBRU-S93G2VI\\E\\Gregg\\3_color_control_mice_20250514\"\n",
    "os.path.exists(data_dir)\n",
    "\n",
    "flourophore_names = os.listdir(data_dir)\n",
    "flourophore_names = [filename.split('_')[0] for filename in flourophore_names]\n",
    "print(flourophore_names)\n",
    "\n",
    "for dirpath, dirnames, filenames in os.walk(data_dir):\n",
    "        pass\n",
    "    "
   ]
  },
  {
   "cell_type": "code",
   "execution_count": null,
   "id": "d700fd57",
   "metadata": {},
   "outputs": [],
   "source": []
  }
 ],
 "metadata": {
  "kernelspec": {
   "display_name": "Python 3 (ipykernel)",
   "language": "python",
   "name": "python3"
  },
  "language_info": {
   "codemirror_mode": {
    "name": "ipython",
    "version": 3
   },
   "file_extension": ".py",
   "mimetype": "text/x-python",
   "name": "python",
   "nbconvert_exporter": "python",
   "pygments_lexer": "ipython3",
   "version": "3.9.12"
  }
 },
 "nbformat": 4,
 "nbformat_minor": 5
}
